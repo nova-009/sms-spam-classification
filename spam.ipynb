{
  "cells": [
    {
      "metadata": {
        "_uuid": "8f2839f25d086af736a60e9eeb907d3b93b6e0e5",
        "_cell_guid": "b1076dfc-b9ad-4769-8c92-a6c4dae69d19",
        "trusted": true
      },
      "cell_type": "code",
      "source": "# This Python 3 environment comes with many helpful analytics libraries installed\n# It is defined by the kaggle/python docker image: https://github.com/kaggle/docker-python\n# For example, here's several helpful packages to load in \n\nimport numpy as np # linear algebra\nimport pandas as pd # data processing, CSV file I/O (e.g. pd.read_csv)\n\n# Input data files are available in the \"../input/\" directory.\n# For example, running this (by clicking run or pressing Shift+Enter) will list the files in the input directory\nimport matplotlib.pyplot as plt\nimport seaborn as sns\nfrom sklearn.model_selection import train_test_split\nfrom sklearn.preprocessing import LabelEncoder\nfrom keras.models import Model\nfrom keras.layers import LSTM, Activation, Dense, Dropout, Input, Embedding\nfrom keras.optimizers import RMSprop\nfrom keras.preprocessing.text import Tokenizer\nfrom keras.preprocessing import sequence\nfrom keras.utils import to_categorical\nfrom keras.callbacks import EarlyStopping\n%matplotlib inline\n\nimport os\nprint(os.listdir(\"../input\"))\n\n# Any results you write to the current directory are saved as output.",
      "execution_count": 1,
      "outputs": [
        {
          "output_type": "stream",
          "text": "Using TensorFlow backend.\n",
          "name": "stderr"
        },
        {
          "output_type": "stream",
          "text": "['spam.csv']\n",
          "name": "stdout"
        }
      ]
    },
    {
      "metadata": {
        "_cell_guid": "79c7e3d0-c299-4dcb-8224-4455121ee9b0",
        "_uuid": "d629ff2d2480ee46fbb7e2d37f6b5fab8052498a",
        "trusted": true
      },
      "cell_type": "code",
      "source": "df = pd.read_csv('../input/spam.csv',delimiter=',',encoding='latin-1')\ndf.head()",
      "execution_count": 8,
      "outputs": [
        {
          "output_type": "execute_result",
          "execution_count": 8,
          "data": {
            "text/plain": "     v1    ...     Unnamed: 4\n0   ham    ...            NaN\n1   ham    ...            NaN\n2  spam    ...            NaN\n3   ham    ...            NaN\n4   ham    ...            NaN\n\n[5 rows x 5 columns]",
            "text/html": "<div>\n<style scoped>\n    .dataframe tbody tr th:only-of-type {\n        vertical-align: middle;\n    }\n\n    .dataframe tbody tr th {\n        vertical-align: top;\n    }\n\n    .dataframe thead th {\n        text-align: right;\n    }\n</style>\n<table border=\"1\" class=\"dataframe\">\n  <thead>\n    <tr style=\"text-align: right;\">\n      <th></th>\n      <th>v1</th>\n      <th>v2</th>\n      <th>Unnamed: 2</th>\n      <th>Unnamed: 3</th>\n      <th>Unnamed: 4</th>\n    </tr>\n  </thead>\n  <tbody>\n    <tr>\n      <th>0</th>\n      <td>ham</td>\n      <td>Go until jurong point, crazy.. Available only ...</td>\n      <td>NaN</td>\n      <td>NaN</td>\n      <td>NaN</td>\n    </tr>\n    <tr>\n      <th>1</th>\n      <td>ham</td>\n      <td>Ok lar... Joking wif u oni...</td>\n      <td>NaN</td>\n      <td>NaN</td>\n      <td>NaN</td>\n    </tr>\n    <tr>\n      <th>2</th>\n      <td>spam</td>\n      <td>Free entry in 2 a wkly comp to win FA Cup fina...</td>\n      <td>NaN</td>\n      <td>NaN</td>\n      <td>NaN</td>\n    </tr>\n    <tr>\n      <th>3</th>\n      <td>ham</td>\n      <td>U dun say so early hor... U c already then say...</td>\n      <td>NaN</td>\n      <td>NaN</td>\n      <td>NaN</td>\n    </tr>\n    <tr>\n      <th>4</th>\n      <td>ham</td>\n      <td>Nah I don't think he goes to usf, he lives aro...</td>\n      <td>NaN</td>\n      <td>NaN</td>\n      <td>NaN</td>\n    </tr>\n  </tbody>\n</table>\n</div>"
          },
          "metadata": {}
        }
      ]
    },
    {
      "metadata": {
        "_uuid": "a45b11e670cc5ecb6852bc0ce6f8ab46ca674056"
      },
      "cell_type": "markdown",
      "source": "Let's drop the unnecessary columns."
    },
    {
      "metadata": {
        "trusted": true,
        "_uuid": "eb3306ec917c329c2bed18b38387c2c288000c62"
      },
      "cell_type": "code",
      "source": "df.drop(['Unnamed: 2', 'Unnamed: 3', 'Unnamed: 4'],axis=1,inplace=True)",
      "execution_count": 9,
      "outputs": []
    },
    {
      "metadata": {
        "trusted": true,
        "_uuid": "8f10f86ffd383cc537fce2cdcc8b6a9493db1266"
      },
      "cell_type": "code",
      "source": "df.shape",
      "execution_count": 10,
      "outputs": [
        {
          "output_type": "execute_result",
          "execution_count": 10,
          "data": {
            "text/plain": "(5572, 2)"
          },
          "metadata": {}
        }
      ]
    },
    {
      "metadata": {
        "trusted": true,
        "_uuid": "60752bc917eb3a2a5cc0fc41950693da4c4720ae"
      },
      "cell_type": "code",
      "source": "#plot the ham and spam messages to understand the distribution\nsns.countplot(df.v1)\nplt.xlabel('Label')\nplt.title('Number of ham and spam messages')",
      "execution_count": 4,
      "outputs": [
        {
          "output_type": "execute_result",
          "execution_count": 4,
          "data": {
            "text/plain": "Text(0.5,1,'Number of ham and spam messages')"
          },
          "metadata": {}
        },
        {
          "output_type": "display_data",
          "data": {
            "text/plain": "<matplotlib.figure.Figure at 0x7fb5cbfa0550>",
            "image/png": "[encoded data removed]"
          },
          "metadata": {}
        }
      ]
    },
    {
      "metadata": {
        "trusted": true,
        "collapsed": true,
        "_uuid": "751972f4b16601fe320d43f1c31cf3261366b0fe"
      },
      "cell_type": "code",
      "source": "X = df.v2\nY = df.v1\n#label encoding for Y\nle = LabelEncoder()\nY = le.fit_transform(Y)\nY = Y.reshape(-1,1)",
      "execution_count": 5,
      "outputs": []
    },
    {
      "metadata": {
        "trusted": true,
        "collapsed": true,
        "_uuid": "11fa5f18c3a8b5dc1d72f1d785570143ae723d5e"
      },
      "cell_type": "code",
      "source": "#split into train and test sets\nX_train,X_test,Y_train,Y_test = train_test_split(X,Y,test_size=0.20)",
      "execution_count": 17,
      "outputs": []
    },
    {
      "metadata": {
        "_uuid": "b8a5ad015eeb5c2c5e42d90310967644ae794c80"
      },
      "cell_type": "markdown",
      "source": "## Processing Data"
    },
    {
      "metadata": {
        "trusted": true,
        "collapsed": true,
        "_uuid": "28c008a5cdfae6c3a5cc411b87392ae5d493585a"
      },
      "cell_type": "code",
      "source": "max_words = 1000\nmax_len = 150\ntok = Tokenizer(num_words=max_words)\ntok.fit_on_texts(X_train)\nsequences = tok.texts_to_sequences(X_train)\nsequences_matrix = sequence.pad_sequences(sequences,maxlen=max_len)",
      "execution_count": 18,
      "outputs": []
    },
    {
      "metadata": {
        "trusted": true,
        "collapsed": true,
        "_uuid": "e89f9106cc4ade75e9aaeb8f0bbbd068552a9b37"
      },
      "cell_type": "code",
      "source": "inputs = Input(name='inputs',shape=[max_len])\nlayer = Embedding(max_words,50,input_length=max_len)(inputs)\nlayer = LSTM(64)(layer)\nlayer = Dense(256,name='FC1')(layer)\nlayer = Activation('relu')(layer)\nlayer = Dropout(0.5)(layer)\nlayer = Dense(1,name='out_layer')(layer)\nlayer = Activation('sigmoid')(layer)\nmodel = Model(inputs=inputs,outputs=layer)",
      "execution_count": 19,
      "outputs": []
    },
    {
      "metadata": {
        "trusted": true,
        "_uuid": "3692b20f5d483f9abacb58231a9e89a36efcee47"
      },
      "cell_type": "code",
      "source": "model.summary()\nmodel.compile(loss='binary_crossentropy',optimizer=RMSprop(),metrics=['accuracy'])",
      "execution_count": 20,
      "outputs": [
        {
          "output_type": "stream",
          "text": "_________________________________________________________________\nLayer (type)                 Output Shape              Param #   \n=================================================================\ninputs (InputLayer)          (None, 150)               0         \n_________________________________________________________________\nembedding_2 (Embedding)      (None, 150, 50)           50000     \n_________________________________________________________________\nlstm_2 (LSTM)                (None, 64)                29440     \n_________________________________________________________________\nFC1 (Dense)                  (None, 256)               16640     \n_________________________________________________________________\nactivation_3 (Activation)    (None, 256)               0         \n_________________________________________________________________\ndropout_2 (Dropout)          (None, 256)               0         \n_________________________________________________________________\nout_layer (Dense)            (None, 1)                 257       \n_________________________________________________________________\nactivation_4 (Activation)    (None, 1)                 0         \n=================================================================\nTotal params: 96,337\nTrainable params: 96,337\nNon-trainable params: 0\n_________________________________________________________________\n",
          "name": "stdout"
        }
      ]
    },
    {
      "metadata": {
        "trusted": true,
        "_uuid": "d69b3a4b37759dfb7cb3ee41b2d0a553c64e627e"
      },
      "cell_type": "code",
      "source": "model.fit(sequences_matrix,Y_train,batch_size=128,epochs=10,\n          validation_split=0.2,callbacks=[EarlyStopping(monitor='val_loss',min_delta=0.0001)])",
      "execution_count": 23,
      "outputs": [
        {
          "output_type": "stream",
          "text": "Train on 3565 samples, validate on 892 samples\nEpoch 1/10\n3565/3565 [==============================] - 12s 3ms/step - loss: 0.0136 - acc: 0.9961 - val_loss: 0.0832 - val_acc: 0.9854\nEpoch 2/10\n3565/3565 [==============================] - 12s 3ms/step - loss: 0.0110 - acc: 0.9964 - val_loss: 0.0843 - val_acc: 0.9854\n",
          "name": "stdout"
        },
        {
          "output_type": "execute_result",
          "execution_count": 23,
          "data": {
            "text/plain": "<keras.callbacks.History at 0x7fb4f0790cc0>"
          },
          "metadata": {}
        }
      ]
    },
    {
      "metadata": {
        "trusted": true,
        "collapsed": true,
        "_uuid": "d76ec6df58dea5cfc905cfc4707c0a69ea975ffc"
      },
      "cell_type": "code",
      "source": "#processing test data\ntest_sequences = tok.texts_to_sequences(X_test)\ntest_sequences_matrix = sequence.pad_sequences(test_sequences,maxlen=max_len)",
      "execution_count": 24,
      "outputs": []
    },
    {
      "metadata": {
        "trusted": true,
        "_uuid": "14ad8d0de374fde099a50d074394e1f11b7fbf3b"
      },
      "cell_type": "code",
      "source": "#evaluation of our model\naccr = model.evaluate(test_sequences_matrix,Y_test)\nprint('Test set\\n  Loss: {:0.3f}\\n  Accuracy: {:0.3f}'.format(accr[0],accr[1]))",
      "execution_count": 25,
      "outputs": [
        {
          "output_type": "stream",
          "text": "1115/1115 [==============================] - 2s 2ms/step\nTest set\n  Loss: 0.110\n  Accuracy: 0.979\n",
          "name": "stdout"
        }
      ]
    },
    {
      "metadata": {
        "trusted": true,
        "collapsed": true,
        "_uuid": "29c5cf20a2327a49bd688691841befdd0b431b8b"
      },
      "cell_type": "code",
      "source": "",
      "execution_count": null,
      "outputs": []
    }
  ],
  "metadata": {
    "kernelspec": {
      "display_name": "Python 3",
      "language": "python",
      "name": "python3"
    },
    "language_info": {
      "name": "python",
      "version": "3.6.6",
      "mimetype": "text/x-python",
      "codemirror_mode": {
        "name": "ipython",
        "version": 3
      },
      "pygments_lexer": "ipython3",
      "nbconvert_exporter": "python",
      "file_extension": ".py"
    }
  },
  "nbformat": 4,
  "nbformat_minor": 1
}
